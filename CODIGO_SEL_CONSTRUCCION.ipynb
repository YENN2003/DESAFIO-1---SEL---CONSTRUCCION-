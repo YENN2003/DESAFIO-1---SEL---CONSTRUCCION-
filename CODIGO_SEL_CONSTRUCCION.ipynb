{
  "nbformat": 4,
  "nbformat_minor": 0,
  "metadata": {
    "colab": {
      "provenance": []
    },
    "kernelspec": {
      "name": "python3",
      "display_name": "Python 3"
    },
    "language_info": {
      "name": "python"
    }
  },
  "cells": [
    {
      "cell_type": "code",
      "execution_count": 2,
      "metadata": {
        "colab": {
          "base_uri": "https://localhost:8080/"
        },
        "id": "4JQ2fol2dsjp",
        "outputId": "8eb6ab6a-70d4-474e-acc6-af310f61380d"
      },
      "outputs": [
        {
          "output_type": "stream",
          "name": "stdout",
          "text": [
            "La cantidad de metros cúbicos que se deben transportar desde cada cantera es:\n",
            "Cantera 1: 32.85 m^3\n",
            "Cantera 2: 63.88 m^3\n",
            "Cantera 3: 65.29 m^3\n"
          ]
        }
      ],
      "source": [
        "import numpy as np\n",
        "\n",
        "# Definir la matriz A\n",
        "A = np.array([[52, 30, 18],\n",
        "              [20, 50, 30],\n",
        "              [25, 20, 55]])\n",
        "\n",
        "# Definir el vector b\n",
        "b = np.array([4800, 5810, 5690])\n",
        "\n",
        "# Resolver el sistema de ecuaciones Ax = b\n",
        "x = np.linalg.solve(A, b)\n",
        "\n",
        "# Mostrar el resultado\n",
        "print('La cantidad de metros cúbicos que se deben transportar desde cada cantera es:')\n",
        "for i, val in enumerate(x):\n",
        "  print(f\"Cantera {i+1}: {val:.2f} m^3\")"
      ]
    }
  ]
}